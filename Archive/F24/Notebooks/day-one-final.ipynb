{
 "cells": [
  {
   "cell_type": "markdown",
   "id": "1d297704-d5c4-4eba-a098-7b483182f9e2",
   "metadata": {},
   "source": [
    "# Day One: Introducing Pandas"
   ]
  },
  {
   "cell_type": "markdown",
   "id": "d8057f12-2384-4f4a-b76c-6cd02718febd",
   "metadata": {},
   "source": [
    "## Setup\n",
    "\n",
    "For this workshop, I require **pandas version > 2.0** to make sure everyone gets the same results from the same code. You can check the version of Pandas installed in your current conda environment as follows:"
   ]
  },
  {
   "cell_type": "code",
   "execution_count": 28,
   "id": "c6291d55-8d2b-4140-bbf9-7f84e1b9d786",
   "metadata": {
    "tags": []
   },
   "outputs": [
    {
     "name": "stdout",
     "output_type": "stream",
     "text": [
      "2.2.2\n"
     ]
    }
   ],
   "source": [
    "import pandas as pd\n",
    "print(pd.__version__) # 2.0 or above"
   ]
  },
  {
   "cell_type": "markdown",
   "id": "f857b54b-a075-45cc-a6e3-da70d2c203ae",
   "metadata": {},
   "source": [
    "Adjust how Jupyter displays columns in DataFrames."
   ]
  },
  {
   "cell_type": "code",
   "execution_count": 79,
   "id": "d66d1e36-de94-46c5-a9fd-00e5638484cc",
   "metadata": {},
   "outputs": [],
   "source": [
    "pd.set_option('display.max_columns', None)"
   ]
  },
  {
   "cell_type": "markdown",
   "id": "dd4bcb92-ae3b-41c5-8daf-06522e99e14a",
   "metadata": {},
   "source": [
    "## Datasets\n",
    "* [CORGIS: Coffee Cupping Dataset](https://corgis-edu.github.io/corgis/csv/coffee/) - A *.csv* (comma-separated value) file of professionally rated coffee varieties."
   ]
  },
  {
   "cell_type": "markdown",
   "id": "aa052e4b-b981-4ff3-9834-4cf2f19a5314",
   "metadata": {
    "jp-MarkdownHeadingCollapsed": true,
    "tags": []
   },
   "source": [
    "## Pandas\n",
    "\n",
    "The core functionality of Pandas is provided through the [**DataFrame**](https://pandas.pydata.org/docs/reference/api/pandas.DataFrame.html) and [**Series**](https://pandas.pydata.org/docs/reference/series.html) objects. I would recommend referring to the documentation linked throughout."
   ]
  },
  {
   "cell_type": "markdown",
   "id": "187022f5-2aa1-42b6-99f2-c659f4840502",
   "metadata": {},
   "source": [
    "## Reading CSV Data from a File\n",
    "Today, we will review downloading and importing .csv files from local folders. You will do this by specifying an input **filepath** relative to the directory in which your Jupyter Notebook (**.ipynb**) file is stored."
   ]
  },
  {
   "cell_type": "markdown",
   "id": "82c43d1e-2745-49d7-9a34-c6571cc242a8",
   "metadata": {},
   "source": [
    "### Filesystem Navigation in Python\n",
    "The Python [os module](https://docs.python.org/3/library/os.html) can help you manage files and folders through Python commands. If you find yourself getting *FileNotFound* errors, you might be looking in the wrong directory.\n",
    "\n",
    "To get the current working directory we can use the **os.getcwd()** function."
   ]
  },
  {
   "cell_type": "code",
   "execution_count": 2,
   "id": "e769557f-b76c-4f63-af87-a077873b9381",
   "metadata": {
    "tags": []
   },
   "outputs": [
    {
     "name": "stdout",
     "output_type": "stream",
     "text": [
      "C:\\Users\\Erin\\Desktop\\DataWranglingWorkshop\n"
     ]
    }
   ],
   "source": [
    "import os\n",
    "print(os.getcwd())"
   ]
  },
  {
   "cell_type": "markdown",
   "id": "3e578b11-3e52-40a1-9aac-4a636c04cf08",
   "metadata": {},
   "source": [
    "To see the **files and folders** relative to your work directory, use the **os.listdir()** command. "
   ]
  },
  {
   "cell_type": "code",
   "execution_count": 16,
   "id": "3453dcdf-55cc-47c4-ad4f-31f7847626ef",
   "metadata": {},
   "outputs": [
    {
     "data": {
      "text/plain": [
       "['.ipynb_checkpoints',\n",
       " 'data',\n",
       " 'day-one.ipynb',\n",
       " 'pandas-workshop-day-1-notes.ipynb']"
      ]
     },
     "execution_count": 16,
     "metadata": {},
     "output_type": "execute_result"
    }
   ],
   "source": [
    "os.listdir() # If you see .ipnyb_checkpoints, that's a hidden file created by Jupyter"
   ]
  },
  {
   "cell_type": "markdown",
   "id": "c45e8085-befc-4332-9ff5-a2621bc24286",
   "metadata": {},
   "source": [
    "## Exploring DataFrames"
   ]
  },
  {
   "cell_type": "markdown",
   "id": "09e4c1a8-5649-4b12-ad7b-9166b356ae6a",
   "metadata": {},
   "source": [
    "To read in .csv files into Pandas DataFrames, we can use the **pd.read_csv()** function. This file doesn't have a unique idenitifier column that we could use as a row index, and it is separated by commas rather than tabs or spaces, so the **default** arguments are appropriate."
   ]
  },
  {
   "cell_type": "code",
   "execution_count": 80,
   "id": "c3fba9a2-9586-4c90-96a6-bee777c294d7",
   "metadata": {
    "tags": []
   },
   "outputs": [
    {
     "data": {
      "text/html": [
       "<div>\n",
       "<style scoped>\n",
       "    .dataframe tbody tr th:only-of-type {\n",
       "        vertical-align: middle;\n",
       "    }\n",
       "\n",
       "    .dataframe tbody tr th {\n",
       "        vertical-align: top;\n",
       "    }\n",
       "\n",
       "    .dataframe thead th {\n",
       "        text-align: right;\n",
       "    }\n",
       "</style>\n",
       "<table border=\"1\" class=\"dataframe\">\n",
       "  <thead>\n",
       "    <tr style=\"text-align: right;\">\n",
       "      <th></th>\n",
       "      <th>Location.Country</th>\n",
       "      <th>Location.Region</th>\n",
       "      <th>Location.Altitude.Min</th>\n",
       "      <th>Location.Altitude.Max</th>\n",
       "      <th>Location.Altitude.Average</th>\n",
       "      <th>Year</th>\n",
       "      <th>Data.Owner</th>\n",
       "      <th>Data.Type.Species</th>\n",
       "      <th>Data.Type.Variety</th>\n",
       "      <th>Data.Type.Processing method</th>\n",
       "      <th>Data.Production.Number of bags</th>\n",
       "      <th>Data.Production.Bag weight</th>\n",
       "      <th>Data.Scores.Aroma</th>\n",
       "      <th>Data.Scores.Flavor</th>\n",
       "      <th>Data.Scores.Aftertaste</th>\n",
       "      <th>Data.Scores.Acidity</th>\n",
       "      <th>Data.Scores.Body</th>\n",
       "      <th>Data.Scores.Balance</th>\n",
       "      <th>Data.Scores.Uniformity</th>\n",
       "      <th>Data.Scores.Sweetness</th>\n",
       "      <th>Data.Scores.Moisture</th>\n",
       "      <th>Data.Scores.Total</th>\n",
       "      <th>Data.Color</th>\n",
       "    </tr>\n",
       "  </thead>\n",
       "  <tbody>\n",
       "    <tr>\n",
       "      <th>0</th>\n",
       "      <td>United States</td>\n",
       "      <td>kona</td>\n",
       "      <td>0</td>\n",
       "      <td>0</td>\n",
       "      <td>0</td>\n",
       "      <td>2010</td>\n",
       "      <td>kona pacific farmers cooperative</td>\n",
       "      <td>Arabica</td>\n",
       "      <td>NaN</td>\n",
       "      <td>NaN</td>\n",
       "      <td>25</td>\n",
       "      <td>45.3592</td>\n",
       "      <td>8.25</td>\n",
       "      <td>8.42</td>\n",
       "      <td>8.08</td>\n",
       "      <td>7.75</td>\n",
       "      <td>7.67</td>\n",
       "      <td>7.83</td>\n",
       "      <td>10.0</td>\n",
       "      <td>10.0</td>\n",
       "      <td>0.00</td>\n",
       "      <td>86.25</td>\n",
       "      <td>Unknown</td>\n",
       "    </tr>\n",
       "    <tr>\n",
       "      <th>1</th>\n",
       "      <td>Brazil</td>\n",
       "      <td>sul de minas - carmo de minas</td>\n",
       "      <td>12</td>\n",
       "      <td>12</td>\n",
       "      <td>12</td>\n",
       "      <td>2010</td>\n",
       "      <td>jacques pereira carneiro</td>\n",
       "      <td>Arabica</td>\n",
       "      <td>Yellow Bourbon</td>\n",
       "      <td>NaN</td>\n",
       "      <td>300</td>\n",
       "      <td>60.0000</td>\n",
       "      <td>8.17</td>\n",
       "      <td>7.92</td>\n",
       "      <td>7.92</td>\n",
       "      <td>7.75</td>\n",
       "      <td>8.33</td>\n",
       "      <td>8.00</td>\n",
       "      <td>10.0</td>\n",
       "      <td>10.0</td>\n",
       "      <td>0.08</td>\n",
       "      <td>86.17</td>\n",
       "      <td>Unknown</td>\n",
       "    </tr>\n",
       "    <tr>\n",
       "      <th>2</th>\n",
       "      <td>Brazil</td>\n",
       "      <td>sul de minas - carmo de minas</td>\n",
       "      <td>12</td>\n",
       "      <td>12</td>\n",
       "      <td>12</td>\n",
       "      <td>2010</td>\n",
       "      <td>jacques pereira carneiro</td>\n",
       "      <td>Arabica</td>\n",
       "      <td>Yellow Bourbon</td>\n",
       "      <td>NaN</td>\n",
       "      <td>300</td>\n",
       "      <td>60.0000</td>\n",
       "      <td>8.42</td>\n",
       "      <td>7.92</td>\n",
       "      <td>8.00</td>\n",
       "      <td>7.75</td>\n",
       "      <td>7.92</td>\n",
       "      <td>8.00</td>\n",
       "      <td>10.0</td>\n",
       "      <td>10.0</td>\n",
       "      <td>0.01</td>\n",
       "      <td>86.17</td>\n",
       "      <td>Unknown</td>\n",
       "    </tr>\n",
       "    <tr>\n",
       "      <th>3</th>\n",
       "      <td>Ethiopia</td>\n",
       "      <td>sidamo</td>\n",
       "      <td>0</td>\n",
       "      <td>0</td>\n",
       "      <td>0</td>\n",
       "      <td>2010</td>\n",
       "      <td>ethiopia commodity exchange</td>\n",
       "      <td>Arabica</td>\n",
       "      <td>NaN</td>\n",
       "      <td>NaN</td>\n",
       "      <td>360</td>\n",
       "      <td>6.0000</td>\n",
       "      <td>7.67</td>\n",
       "      <td>8.00</td>\n",
       "      <td>7.83</td>\n",
       "      <td>8.00</td>\n",
       "      <td>7.92</td>\n",
       "      <td>7.83</td>\n",
       "      <td>10.0</td>\n",
       "      <td>10.0</td>\n",
       "      <td>0.00</td>\n",
       "      <td>85.08</td>\n",
       "      <td>Unknown</td>\n",
       "    </tr>\n",
       "    <tr>\n",
       "      <th>4</th>\n",
       "      <td>Ethiopia</td>\n",
       "      <td>sidamo</td>\n",
       "      <td>0</td>\n",
       "      <td>0</td>\n",
       "      <td>0</td>\n",
       "      <td>2010</td>\n",
       "      <td>ethiopia commodity exchange</td>\n",
       "      <td>Arabica</td>\n",
       "      <td>NaN</td>\n",
       "      <td>NaN</td>\n",
       "      <td>300</td>\n",
       "      <td>6.0000</td>\n",
       "      <td>7.58</td>\n",
       "      <td>7.83</td>\n",
       "      <td>7.58</td>\n",
       "      <td>8.00</td>\n",
       "      <td>7.83</td>\n",
       "      <td>7.50</td>\n",
       "      <td>10.0</td>\n",
       "      <td>10.0</td>\n",
       "      <td>0.10</td>\n",
       "      <td>83.83</td>\n",
       "      <td>Unknown</td>\n",
       "    </tr>\n",
       "  </tbody>\n",
       "</table>\n",
       "</div>"
      ],
      "text/plain": [
       "  Location.Country                Location.Region  Location.Altitude.Min  \\\n",
       "0    United States                           kona                      0   \n",
       "1           Brazil  sul de minas - carmo de minas                     12   \n",
       "2           Brazil  sul de minas - carmo de minas                     12   \n",
       "3         Ethiopia                         sidamo                      0   \n",
       "4         Ethiopia                         sidamo                      0   \n",
       "\n",
       "   Location.Altitude.Max  Location.Altitude.Average  Year  \\\n",
       "0                      0                          0  2010   \n",
       "1                     12                         12  2010   \n",
       "2                     12                         12  2010   \n",
       "3                      0                          0  2010   \n",
       "4                      0                          0  2010   \n",
       "\n",
       "                         Data.Owner Data.Type.Species Data.Type.Variety  \\\n",
       "0  kona pacific farmers cooperative           Arabica               NaN   \n",
       "1          jacques pereira carneiro           Arabica    Yellow Bourbon   \n",
       "2          jacques pereira carneiro           Arabica    Yellow Bourbon   \n",
       "3       ethiopia commodity exchange           Arabica               NaN   \n",
       "4       ethiopia commodity exchange           Arabica               NaN   \n",
       "\n",
       "  Data.Type.Processing method  Data.Production.Number of bags  \\\n",
       "0                         NaN                              25   \n",
       "1                         NaN                             300   \n",
       "2                         NaN                             300   \n",
       "3                         NaN                             360   \n",
       "4                         NaN                             300   \n",
       "\n",
       "   Data.Production.Bag weight  Data.Scores.Aroma  Data.Scores.Flavor  \\\n",
       "0                     45.3592               8.25                8.42   \n",
       "1                     60.0000               8.17                7.92   \n",
       "2                     60.0000               8.42                7.92   \n",
       "3                      6.0000               7.67                8.00   \n",
       "4                      6.0000               7.58                7.83   \n",
       "\n",
       "   Data.Scores.Aftertaste  Data.Scores.Acidity  Data.Scores.Body  \\\n",
       "0                    8.08                 7.75              7.67   \n",
       "1                    7.92                 7.75              8.33   \n",
       "2                    8.00                 7.75              7.92   \n",
       "3                    7.83                 8.00              7.92   \n",
       "4                    7.58                 8.00              7.83   \n",
       "\n",
       "   Data.Scores.Balance  Data.Scores.Uniformity  Data.Scores.Sweetness  \\\n",
       "0                 7.83                    10.0                   10.0   \n",
       "1                 8.00                    10.0                   10.0   \n",
       "2                 8.00                    10.0                   10.0   \n",
       "3                 7.83                    10.0                   10.0   \n",
       "4                 7.50                    10.0                   10.0   \n",
       "\n",
       "   Data.Scores.Moisture  Data.Scores.Total Data.Color  \n",
       "0                  0.00              86.25    Unknown  \n",
       "1                  0.08              86.17    Unknown  \n",
       "2                  0.01              86.17    Unknown  \n",
       "3                  0.00              85.08    Unknown  \n",
       "4                  0.10              83.83    Unknown  "
      ]
     },
     "execution_count": 80,
     "metadata": {},
     "output_type": "execute_result"
    }
   ],
   "source": [
    "coffee = pd.read_csv(\"data/coffee.csv\")\n",
    "coffee.head(5) # Gives the first five rows of a DataFrame"
   ]
  },
  {
   "cell_type": "markdown",
   "id": "e75eb3d2-138c-4ff0-b7e4-68fbc9eb42ca",
   "metadata": {},
   "source": [
    "`coffee` is a DataFrame object.\n",
    "\n",
    "* If we look at the **.shape** attribute (a tuple in `(row, column)` form) we can see it has 989 rows and 23 columns.\n",
    "* We can look at the row names in the **.index** attribute and the column names in the **.columns** attribute--we'll learn how to change these later!"
   ]
  },
  {
   "cell_type": "code",
   "execution_count": 5,
   "id": "5a055c52-bd1f-48a6-8098-4d0b1ea78233",
   "metadata": {},
   "outputs": [
    {
     "name": "stdout",
     "output_type": "stream",
     "text": [
      "<class 'pandas.core.frame.DataFrame'>\n",
      "(989, 23)\n"
     ]
    }
   ],
   "source": [
    "print(type(coffee)) # Print data type\n",
    "print(coffee.shape)"
   ]
  },
  {
   "cell_type": "markdown",
   "id": "dae2ae63-bd27-486a-8fc0-32120cc81e83",
   "metadata": {},
   "source": [
    "If we do not specify an index column using the *index_col=* parameter, the row names will default to a **RangeIndex** starting at 0 and stopping at `num_rows - 1`."
   ]
  },
  {
   "cell_type": "code",
   "execution_count": 6,
   "id": "6de427e0-1c91-4201-9b76-ce7807c5f500",
   "metadata": {},
   "outputs": [
    {
     "name": "stdout",
     "output_type": "stream",
     "text": [
      "RangeIndex(start=0, stop=989, step=1)\n"
     ]
    }
   ],
   "source": [
    "print(coffee.index)"
   ]
  },
  {
   "cell_type": "code",
   "execution_count": 7,
   "id": "939cc83a-a221-4da0-8b7a-d899d30553c9",
   "metadata": {
    "scrolled": true
   },
   "outputs": [
    {
     "name": "stdout",
     "output_type": "stream",
     "text": [
      "Index(['Location.Country', 'Location.Region', 'Location.Altitude.Min',\n",
      "       'Location.Altitude.Max', 'Location.Altitude.Average', 'Year',\n",
      "       'Data.Owner', 'Data.Type.Species', 'Data.Type.Variety',\n",
      "       'Data.Type.Processing method', 'Data.Production.Number of bags',\n",
      "       'Data.Production.Bag weight', 'Data.Scores.Aroma', 'Data.Scores.Flavor',\n",
      "       'Data.Scores.Aftertaste', 'Data.Scores.Acidity', 'Data.Scores.Body',\n",
      "       'Data.Scores.Balance', 'Data.Scores.Uniformity',\n",
      "       'Data.Scores.Sweetness', 'Data.Scores.Moisture', 'Data.Scores.Total',\n",
      "       'Data.Color'],\n",
      "      dtype='object')\n"
     ]
    }
   ],
   "source": [
    "print(coffee.columns)"
   ]
  },
  {
   "cell_type": "markdown",
   "id": "7849a71e-97e3-4834-865c-fc9a67dd50d0",
   "metadata": {},
   "source": [
    "Every **column** in a **DataFrame** is a **Series**, and every **row** in a **DataFrame** is a **Series**. However, columns have an assigned **Dtype** where rows do not. This makes sense because rows typically represent *observations* while columns represent *variables*.\n",
    "\n",
    "You can see the Dtypes for each column in your DataFrame using **.dtypes**. (**object** is the default Dtype for catego"
   ]
  },
  {
   "cell_type": "code",
   "execution_count": 41,
   "id": "ab053e0c-248f-4c9d-a9fc-410b6b4cd03d",
   "metadata": {},
   "outputs": [
    {
     "data": {
      "text/plain": [
       "Location.Country                   object\n",
       "Location.Region                    object\n",
       "Location.Altitude.Min               int64\n",
       "Location.Altitude.Max               int64\n",
       "Location.Altitude.Average           int64\n",
       "Year                                int64\n",
       "Data.Owner                         object\n",
       "Data.Type.Species                  object\n",
       "Data.Type.Variety                  object\n",
       "Data.Type.Processing method        object\n",
       "Data.Production.Number of bags      int64\n",
       "Data.Production.Bag weight        float64\n",
       "Data.Scores.Aroma                 float64\n",
       "Data.Scores.Flavor                float64\n",
       "Data.Scores.Aftertaste            float64\n",
       "Data.Scores.Acidity               float64\n",
       "Data.Scores.Body                  float64\n",
       "Data.Scores.Balance               float64\n",
       "Data.Scores.Uniformity            float64\n",
       "Data.Scores.Sweetness             float64\n",
       "Data.Scores.Moisture              float64\n",
       "Data.Scores.Total                 float64\n",
       "Data.Color                         object\n",
       "dtype: object"
      ]
     },
     "execution_count": 41,
     "metadata": {},
     "output_type": "execute_result"
    }
   ],
   "source": [
    "coffee.dtypes"
   ]
  },
  {
   "cell_type": "code",
   "execution_count": null,
   "id": "1de828bc-c0a5-4b0b-9c65-6a4343089aea",
   "metadata": {},
   "outputs": [],
   "source": []
  },
  {
   "cell_type": "markdown",
   "id": "b30b9cf6-278a-4a40-bdec-4cc96c5a6f0d",
   "metadata": {},
   "source": [
    "We can get descriptive statistics for **numeric** Series or for several numeric columns in a DataFrame at once using **describe()**."
   ]
  },
  {
   "cell_type": "code",
   "execution_count": 23,
   "id": "298475c4-dc18-4753-ac22-197d4d90345c",
   "metadata": {
    "scrolled": true,
    "tags": []
   },
   "outputs": [
    {
     "data": {
      "text/plain": [
       "count    989.000000\n",
       "mean       7.572831\n",
       "std        0.396796\n",
       "min        0.000000\n",
       "25%        7.420000\n",
       "50%        7.580000\n",
       "75%        7.750000\n",
       "max        8.750000\n",
       "Name: Data.Scores.Aroma, dtype: float64"
      ]
     },
     "execution_count": 23,
     "metadata": {},
     "output_type": "execute_result"
    }
   ],
   "source": [
    "coffee[\"Data.Scores.Aroma\"].describe() # On a Series"
   ]
  },
  {
   "cell_type": "code",
   "execution_count": 24,
   "id": "32805e58-dbb3-4b7c-91c2-4020f74bc90e",
   "metadata": {
    "tags": []
   },
   "outputs": [
    {
     "data": {
      "text/html": [
       "<div>\n",
       "<style scoped>\n",
       "    .dataframe tbody tr th:only-of-type {\n",
       "        vertical-align: middle;\n",
       "    }\n",
       "\n",
       "    .dataframe tbody tr th {\n",
       "        vertical-align: top;\n",
       "    }\n",
       "\n",
       "    .dataframe thead th {\n",
       "        text-align: right;\n",
       "    }\n",
       "</style>\n",
       "<table border=\"1\" class=\"dataframe\">\n",
       "  <thead>\n",
       "    <tr style=\"text-align: right;\">\n",
       "      <th></th>\n",
       "      <th>Location.Altitude.Min</th>\n",
       "      <th>Location.Altitude.Max</th>\n",
       "      <th>Location.Altitude.Average</th>\n",
       "      <th>Year</th>\n",
       "      <th>Data.Production.Number of bags</th>\n",
       "      <th>Data.Production.Bag weight</th>\n",
       "      <th>Data.Scores.Aroma</th>\n",
       "      <th>Data.Scores.Flavor</th>\n",
       "      <th>Data.Scores.Aftertaste</th>\n",
       "      <th>Data.Scores.Acidity</th>\n",
       "      <th>Data.Scores.Body</th>\n",
       "      <th>Data.Scores.Balance</th>\n",
       "      <th>Data.Scores.Uniformity</th>\n",
       "      <th>Data.Scores.Sweetness</th>\n",
       "      <th>Data.Scores.Moisture</th>\n",
       "      <th>Data.Scores.Total</th>\n",
       "    </tr>\n",
       "  </thead>\n",
       "  <tbody>\n",
       "    <tr>\n",
       "      <th>count</th>\n",
       "      <td>989.000000</td>\n",
       "      <td>989.000000</td>\n",
       "      <td>989.000000</td>\n",
       "      <td>989.000000</td>\n",
       "      <td>989.000000</td>\n",
       "      <td>989.000000</td>\n",
       "      <td>989.000000</td>\n",
       "      <td>989.000000</td>\n",
       "      <td>989.000000</td>\n",
       "      <td>989.000000</td>\n",
       "      <td>989.000000</td>\n",
       "      <td>989.000000</td>\n",
       "      <td>989.000000</td>\n",
       "      <td>989.000000</td>\n",
       "      <td>989.000000</td>\n",
       "      <td>989.000000</td>\n",
       "    </tr>\n",
       "    <tr>\n",
       "      <th>mean</th>\n",
       "      <td>1640.076845</td>\n",
       "      <td>1675.929221</td>\n",
       "      <td>1657.998989</td>\n",
       "      <td>2013.549039</td>\n",
       "      <td>151.761375</td>\n",
       "      <td>210.491937</td>\n",
       "      <td>7.572831</td>\n",
       "      <td>7.515410</td>\n",
       "      <td>7.387472</td>\n",
       "      <td>7.539697</td>\n",
       "      <td>7.506309</td>\n",
       "      <td>7.500344</td>\n",
       "      <td>9.823893</td>\n",
       "      <td>9.830313</td>\n",
       "      <td>0.093903</td>\n",
       "      <td>81.972133</td>\n",
       "    </tr>\n",
       "    <tr>\n",
       "      <th>std</th>\n",
       "      <td>9192.519762</td>\n",
       "      <td>9191.957731</td>\n",
       "      <td>9192.058989</td>\n",
       "      <td>1.658883</td>\n",
       "      <td>125.665490</td>\n",
       "      <td>1666.707294</td>\n",
       "      <td>0.396796</td>\n",
       "      <td>0.420677</td>\n",
       "      <td>0.425284</td>\n",
       "      <td>0.399370</td>\n",
       "      <td>0.391481</td>\n",
       "      <td>0.425055</td>\n",
       "      <td>0.593888</td>\n",
       "      <td>0.691316</td>\n",
       "      <td>0.044666</td>\n",
       "      <td>3.859562</td>\n",
       "    </tr>\n",
       "    <tr>\n",
       "      <th>min</th>\n",
       "      <td>0.000000</td>\n",
       "      <td>0.000000</td>\n",
       "      <td>0.000000</td>\n",
       "      <td>2010.000000</td>\n",
       "      <td>1.000000</td>\n",
       "      <td>0.000000</td>\n",
       "      <td>0.000000</td>\n",
       "      <td>0.000000</td>\n",
       "      <td>0.000000</td>\n",
       "      <td>0.000000</td>\n",
       "      <td>0.000000</td>\n",
       "      <td>0.000000</td>\n",
       "      <td>0.000000</td>\n",
       "      <td>0.000000</td>\n",
       "      <td>0.000000</td>\n",
       "      <td>0.000000</td>\n",
       "    </tr>\n",
       "    <tr>\n",
       "      <th>25%</th>\n",
       "      <td>905.000000</td>\n",
       "      <td>950.000000</td>\n",
       "      <td>950.000000</td>\n",
       "      <td>2012.000000</td>\n",
       "      <td>15.000000</td>\n",
       "      <td>1.000000</td>\n",
       "      <td>7.420000</td>\n",
       "      <td>7.330000</td>\n",
       "      <td>7.250000</td>\n",
       "      <td>7.330000</td>\n",
       "      <td>7.330000</td>\n",
       "      <td>7.330000</td>\n",
       "      <td>10.000000</td>\n",
       "      <td>10.000000</td>\n",
       "      <td>0.100000</td>\n",
       "      <td>81.080000</td>\n",
       "    </tr>\n",
       "    <tr>\n",
       "      <th>50%</th>\n",
       "      <td>1300.000000</td>\n",
       "      <td>1310.000000</td>\n",
       "      <td>1300.000000</td>\n",
       "      <td>2013.000000</td>\n",
       "      <td>170.000000</td>\n",
       "      <td>60.000000</td>\n",
       "      <td>7.580000</td>\n",
       "      <td>7.500000</td>\n",
       "      <td>7.420000</td>\n",
       "      <td>7.580000</td>\n",
       "      <td>7.500000</td>\n",
       "      <td>7.500000</td>\n",
       "      <td>10.000000</td>\n",
       "      <td>10.000000</td>\n",
       "      <td>0.110000</td>\n",
       "      <td>82.500000</td>\n",
       "    </tr>\n",
       "    <tr>\n",
       "      <th>75%</th>\n",
       "      <td>1550.000000</td>\n",
       "      <td>1600.000000</td>\n",
       "      <td>1600.000000</td>\n",
       "      <td>2015.000000</td>\n",
       "      <td>275.000000</td>\n",
       "      <td>69.000000</td>\n",
       "      <td>7.750000</td>\n",
       "      <td>7.750000</td>\n",
       "      <td>7.580000</td>\n",
       "      <td>7.750000</td>\n",
       "      <td>7.670000</td>\n",
       "      <td>7.750000</td>\n",
       "      <td>10.000000</td>\n",
       "      <td>10.000000</td>\n",
       "      <td>0.120000</td>\n",
       "      <td>83.580000</td>\n",
       "    </tr>\n",
       "    <tr>\n",
       "      <th>max</th>\n",
       "      <td>190164.000000</td>\n",
       "      <td>190164.000000</td>\n",
       "      <td>190164.000000</td>\n",
       "      <td>2018.000000</td>\n",
       "      <td>600.000000</td>\n",
       "      <td>19200.000000</td>\n",
       "      <td>8.750000</td>\n",
       "      <td>8.830000</td>\n",
       "      <td>8.670000</td>\n",
       "      <td>8.750000</td>\n",
       "      <td>8.500000</td>\n",
       "      <td>8.580000</td>\n",
       "      <td>10.000000</td>\n",
       "      <td>10.000000</td>\n",
       "      <td>0.280000</td>\n",
       "      <td>90.580000</td>\n",
       "    </tr>\n",
       "  </tbody>\n",
       "</table>\n",
       "</div>"
      ],
      "text/plain": [
       "       Location.Altitude.Min  Location.Altitude.Max  \\\n",
       "count             989.000000             989.000000   \n",
       "mean             1640.076845            1675.929221   \n",
       "std              9192.519762            9191.957731   \n",
       "min                 0.000000               0.000000   \n",
       "25%               905.000000             950.000000   \n",
       "50%              1300.000000            1310.000000   \n",
       "75%              1550.000000            1600.000000   \n",
       "max            190164.000000          190164.000000   \n",
       "\n",
       "       Location.Altitude.Average         Year  Data.Production.Number of bags  \\\n",
       "count                 989.000000   989.000000                      989.000000   \n",
       "mean                 1657.998989  2013.549039                      151.761375   \n",
       "std                  9192.058989     1.658883                      125.665490   \n",
       "min                     0.000000  2010.000000                        1.000000   \n",
       "25%                   950.000000  2012.000000                       15.000000   \n",
       "50%                  1300.000000  2013.000000                      170.000000   \n",
       "75%                  1600.000000  2015.000000                      275.000000   \n",
       "max                190164.000000  2018.000000                      600.000000   \n",
       "\n",
       "       Data.Production.Bag weight  Data.Scores.Aroma  Data.Scores.Flavor  \\\n",
       "count                  989.000000         989.000000          989.000000   \n",
       "mean                   210.491937           7.572831            7.515410   \n",
       "std                   1666.707294           0.396796            0.420677   \n",
       "min                      0.000000           0.000000            0.000000   \n",
       "25%                      1.000000           7.420000            7.330000   \n",
       "50%                     60.000000           7.580000            7.500000   \n",
       "75%                     69.000000           7.750000            7.750000   \n",
       "max                  19200.000000           8.750000            8.830000   \n",
       "\n",
       "       Data.Scores.Aftertaste  Data.Scores.Acidity  Data.Scores.Body  \\\n",
       "count              989.000000           989.000000        989.000000   \n",
       "mean                 7.387472             7.539697          7.506309   \n",
       "std                  0.425284             0.399370          0.391481   \n",
       "min                  0.000000             0.000000          0.000000   \n",
       "25%                  7.250000             7.330000          7.330000   \n",
       "50%                  7.420000             7.580000          7.500000   \n",
       "75%                  7.580000             7.750000          7.670000   \n",
       "max                  8.670000             8.750000          8.500000   \n",
       "\n",
       "       Data.Scores.Balance  Data.Scores.Uniformity  Data.Scores.Sweetness  \\\n",
       "count           989.000000              989.000000             989.000000   \n",
       "mean              7.500344                9.823893               9.830313   \n",
       "std               0.425055                0.593888               0.691316   \n",
       "min               0.000000                0.000000               0.000000   \n",
       "25%               7.330000               10.000000              10.000000   \n",
       "50%               7.500000               10.000000              10.000000   \n",
       "75%               7.750000               10.000000              10.000000   \n",
       "max               8.580000               10.000000              10.000000   \n",
       "\n",
       "       Data.Scores.Moisture  Data.Scores.Total  \n",
       "count            989.000000         989.000000  \n",
       "mean               0.093903          81.972133  \n",
       "std                0.044666           3.859562  \n",
       "min                0.000000           0.000000  \n",
       "25%                0.100000          81.080000  \n",
       "50%                0.110000          82.500000  \n",
       "75%                0.120000          83.580000  \n",
       "max                0.280000          90.580000  "
      ]
     },
     "execution_count": 24,
     "metadata": {},
     "output_type": "execute_result"
    }
   ],
   "source": [
    "coffee.describe() # On all numeric columns in a DataFrame"
   ]
  },
  {
   "cell_type": "markdown",
   "id": "2f551691-077a-45ce-8e71-eee054ce53dc",
   "metadata": {
    "tags": []
   },
   "source": [
    "## Indexing\n",
    "\n",
    "We can access values in a DataFrame using [one of two selection methods](https://pandas.pydata.org/pandas-docs/stable/user_guide/indexing.html):\n",
    "* .loc[*row*, *column*] to get values by named indices and columns (inclusive on both ends)\n",
    "* .iloc[*row*, *column*] to get values by numbered indices (exclusive on the right)"
   ]
  },
  {
   "cell_type": "markdown",
   "id": "1c3272b3-1b74-4056-a05b-c3df91fc3de6",
   "metadata": {},
   "source": [
    "### Selecting from a DataFrame with the default (numeric) index\n",
    "*Q: How would you select the second item in the second row using loc? How would you select it with iloc?*"
   ]
  },
  {
   "cell_type": "code",
   "execution_count": 17,
   "id": "28752579-91e4-435d-98fe-82e0535c4ae2",
   "metadata": {},
   "outputs": [
    {
     "data": {
      "text/html": [
       "<div>\n",
       "<style scoped>\n",
       "    .dataframe tbody tr th:only-of-type {\n",
       "        vertical-align: middle;\n",
       "    }\n",
       "\n",
       "    .dataframe tbody tr th {\n",
       "        vertical-align: top;\n",
       "    }\n",
       "\n",
       "    .dataframe thead th {\n",
       "        text-align: right;\n",
       "    }\n",
       "</style>\n",
       "<table border=\"1\" class=\"dataframe\">\n",
       "  <thead>\n",
       "    <tr style=\"text-align: right;\">\n",
       "      <th></th>\n",
       "      <th>Location.Country</th>\n",
       "      <th>Location.Region</th>\n",
       "      <th>Location.Altitude.Min</th>\n",
       "      <th>Location.Altitude.Max</th>\n",
       "      <th>Location.Altitude.Average</th>\n",
       "      <th>Year</th>\n",
       "      <th>Data.Owner</th>\n",
       "      <th>Data.Type.Species</th>\n",
       "      <th>Data.Type.Variety</th>\n",
       "      <th>Data.Type.Processing method</th>\n",
       "      <th>...</th>\n",
       "      <th>Data.Scores.Flavor</th>\n",
       "      <th>Data.Scores.Aftertaste</th>\n",
       "      <th>Data.Scores.Acidity</th>\n",
       "      <th>Data.Scores.Body</th>\n",
       "      <th>Data.Scores.Balance</th>\n",
       "      <th>Data.Scores.Uniformity</th>\n",
       "      <th>Data.Scores.Sweetness</th>\n",
       "      <th>Data.Scores.Moisture</th>\n",
       "      <th>Data.Scores.Total</th>\n",
       "      <th>Data.Color</th>\n",
       "    </tr>\n",
       "  </thead>\n",
       "  <tbody>\n",
       "    <tr>\n",
       "      <th>0</th>\n",
       "      <td>United States</td>\n",
       "      <td>kona</td>\n",
       "      <td>0</td>\n",
       "      <td>0</td>\n",
       "      <td>0</td>\n",
       "      <td>2010</td>\n",
       "      <td>kona pacific farmers cooperative</td>\n",
       "      <td>Arabica</td>\n",
       "      <td>NaN</td>\n",
       "      <td>NaN</td>\n",
       "      <td>...</td>\n",
       "      <td>8.42</td>\n",
       "      <td>8.08</td>\n",
       "      <td>7.75</td>\n",
       "      <td>7.67</td>\n",
       "      <td>7.83</td>\n",
       "      <td>10.0</td>\n",
       "      <td>10.0</td>\n",
       "      <td>0.00</td>\n",
       "      <td>86.25</td>\n",
       "      <td>Unknown</td>\n",
       "    </tr>\n",
       "    <tr>\n",
       "      <th>1</th>\n",
       "      <td>Brazil</td>\n",
       "      <td>sul de minas - carmo de minas</td>\n",
       "      <td>12</td>\n",
       "      <td>12</td>\n",
       "      <td>12</td>\n",
       "      <td>2010</td>\n",
       "      <td>jacques pereira carneiro</td>\n",
       "      <td>Arabica</td>\n",
       "      <td>Yellow Bourbon</td>\n",
       "      <td>NaN</td>\n",
       "      <td>...</td>\n",
       "      <td>7.92</td>\n",
       "      <td>7.92</td>\n",
       "      <td>7.75</td>\n",
       "      <td>8.33</td>\n",
       "      <td>8.00</td>\n",
       "      <td>10.0</td>\n",
       "      <td>10.0</td>\n",
       "      <td>0.08</td>\n",
       "      <td>86.17</td>\n",
       "      <td>Unknown</td>\n",
       "    </tr>\n",
       "    <tr>\n",
       "      <th>2</th>\n",
       "      <td>Brazil</td>\n",
       "      <td>sul de minas - carmo de minas</td>\n",
       "      <td>12</td>\n",
       "      <td>12</td>\n",
       "      <td>12</td>\n",
       "      <td>2010</td>\n",
       "      <td>jacques pereira carneiro</td>\n",
       "      <td>Arabica</td>\n",
       "      <td>Yellow Bourbon</td>\n",
       "      <td>NaN</td>\n",
       "      <td>...</td>\n",
       "      <td>7.92</td>\n",
       "      <td>8.00</td>\n",
       "      <td>7.75</td>\n",
       "      <td>7.92</td>\n",
       "      <td>8.00</td>\n",
       "      <td>10.0</td>\n",
       "      <td>10.0</td>\n",
       "      <td>0.01</td>\n",
       "      <td>86.17</td>\n",
       "      <td>Unknown</td>\n",
       "    </tr>\n",
       "  </tbody>\n",
       "</table>\n",
       "<p>3 rows × 23 columns</p>\n",
       "</div>"
      ],
      "text/plain": [
       "  Location.Country                Location.Region  Location.Altitude.Min  \\\n",
       "0    United States                           kona                      0   \n",
       "1           Brazil  sul de minas - carmo de minas                     12   \n",
       "2           Brazil  sul de minas - carmo de minas                     12   \n",
       "\n",
       "   Location.Altitude.Max  Location.Altitude.Average  Year  \\\n",
       "0                      0                          0  2010   \n",
       "1                     12                         12  2010   \n",
       "2                     12                         12  2010   \n",
       "\n",
       "                         Data.Owner Data.Type.Species Data.Type.Variety  \\\n",
       "0  kona pacific farmers cooperative           Arabica               NaN   \n",
       "1          jacques pereira carneiro           Arabica    Yellow Bourbon   \n",
       "2          jacques pereira carneiro           Arabica    Yellow Bourbon   \n",
       "\n",
       "  Data.Type.Processing method  ...  Data.Scores.Flavor  \\\n",
       "0                         NaN  ...                8.42   \n",
       "1                         NaN  ...                7.92   \n",
       "2                         NaN  ...                7.92   \n",
       "\n",
       "   Data.Scores.Aftertaste  Data.Scores.Acidity  Data.Scores.Body  \\\n",
       "0                    8.08                 7.75              7.67   \n",
       "1                    7.92                 7.75              8.33   \n",
       "2                    8.00                 7.75              7.92   \n",
       "\n",
       "   Data.Scores.Balance  Data.Scores.Uniformity  Data.Scores.Sweetness  \\\n",
       "0                 7.83                    10.0                   10.0   \n",
       "1                 8.00                    10.0                   10.0   \n",
       "2                 8.00                    10.0                   10.0   \n",
       "\n",
       "   Data.Scores.Moisture  Data.Scores.Total  Data.Color  \n",
       "0                  0.00              86.25     Unknown  \n",
       "1                  0.08              86.17     Unknown  \n",
       "2                  0.01              86.17     Unknown  \n",
       "\n",
       "[3 rows x 23 columns]"
      ]
     },
     "execution_count": 17,
     "metadata": {},
     "output_type": "execute_result"
    }
   ],
   "source": [
    "coffee.head(3)"
   ]
  },
  {
   "cell_type": "code",
   "execution_count": 18,
   "id": "23eb8d74-690a-4181-9804-94dd7b7f81af",
   "metadata": {
    "tags": []
   },
   "outputs": [
    {
     "name": "stdout",
     "output_type": "stream",
     "text": [
      "sul de minas - carmo de minas\n",
      "sul de minas - carmo de minas\n"
     ]
    }
   ],
   "source": [
    "print(coffee.loc[1, \"Location.Region\"]) # Our index in this case is a number\n",
    "print(coffee.iloc[1, 1]) # The second row, the second column"
   ]
  },
  {
   "cell_type": "markdown",
   "id": "daf3d1dc-5310-436b-96dc-61cc4f60bbea",
   "metadata": {},
   "source": [
    "We can also use .loc and .iloc to select ranges of cells in the form of rows and columns. "
   ]
  },
  {
   "cell_type": "code",
   "execution_count": 11,
   "id": "48a391f7-b30d-4f11-a5ad-3ec6146106f5",
   "metadata": {
    "scrolled": true,
    "tags": []
   },
   "outputs": [
    {
     "data": {
      "text/html": [
       "<div>\n",
       "<style scoped>\n",
       "    .dataframe tbody tr th:only-of-type {\n",
       "        vertical-align: middle;\n",
       "    }\n",
       "\n",
       "    .dataframe tbody tr th {\n",
       "        vertical-align: top;\n",
       "    }\n",
       "\n",
       "    .dataframe thead th {\n",
       "        text-align: right;\n",
       "    }\n",
       "</style>\n",
       "<table border=\"1\" class=\"dataframe\">\n",
       "  <thead>\n",
       "    <tr style=\"text-align: right;\">\n",
       "      <th></th>\n",
       "      <th>Location.Country</th>\n",
       "      <th>Location.Region</th>\n",
       "      <th>Location.Altitude.Min</th>\n",
       "    </tr>\n",
       "  </thead>\n",
       "  <tbody>\n",
       "    <tr>\n",
       "      <th>0</th>\n",
       "      <td>United States</td>\n",
       "      <td>kona</td>\n",
       "      <td>0</td>\n",
       "    </tr>\n",
       "    <tr>\n",
       "      <th>1</th>\n",
       "      <td>Brazil</td>\n",
       "      <td>sul de minas - carmo de minas</td>\n",
       "      <td>12</td>\n",
       "    </tr>\n",
       "    <tr>\n",
       "      <th>2</th>\n",
       "      <td>Brazil</td>\n",
       "      <td>sul de minas - carmo de minas</td>\n",
       "      <td>12</td>\n",
       "    </tr>\n",
       "    <tr>\n",
       "      <th>3</th>\n",
       "      <td>Ethiopia</td>\n",
       "      <td>sidamo</td>\n",
       "      <td>0</td>\n",
       "    </tr>\n",
       "    <tr>\n",
       "      <th>4</th>\n",
       "      <td>Ethiopia</td>\n",
       "      <td>sidamo</td>\n",
       "      <td>0</td>\n",
       "    </tr>\n",
       "    <tr>\n",
       "      <th>...</th>\n",
       "      <td>...</td>\n",
       "      <td>...</td>\n",
       "      <td>...</td>\n",
       "    </tr>\n",
       "    <tr>\n",
       "      <th>984</th>\n",
       "      <td>Guatemala</td>\n",
       "      <td>san marcos</td>\n",
       "      <td>1700</td>\n",
       "    </tr>\n",
       "    <tr>\n",
       "      <th>985</th>\n",
       "      <td>Honduras</td>\n",
       "      <td>comayagua</td>\n",
       "      <td>1400</td>\n",
       "    </tr>\n",
       "    <tr>\n",
       "      <th>986</th>\n",
       "      <td>India</td>\n",
       "      <td>chikmagalur karnataka indua</td>\n",
       "      <td>3170</td>\n",
       "    </tr>\n",
       "    <tr>\n",
       "      <th>987</th>\n",
       "      <td>India</td>\n",
       "      <td>chikmagalur karnataka india</td>\n",
       "      <td>3140</td>\n",
       "    </tr>\n",
       "    <tr>\n",
       "      <th>988</th>\n",
       "      <td>Honduras</td>\n",
       "      <td>western region</td>\n",
       "      <td>1200</td>\n",
       "    </tr>\n",
       "  </tbody>\n",
       "</table>\n",
       "<p>989 rows × 3 columns</p>\n",
       "</div>"
      ],
      "text/plain": [
       "    Location.Country                Location.Region  Location.Altitude.Min\n",
       "0      United States                           kona                      0\n",
       "1             Brazil  sul de minas - carmo de minas                     12\n",
       "2             Brazil  sul de minas - carmo de minas                     12\n",
       "3           Ethiopia                         sidamo                      0\n",
       "4           Ethiopia                         sidamo                      0\n",
       "..               ...                            ...                    ...\n",
       "984        Guatemala                     san marcos                   1700\n",
       "985         Honduras                      comayagua                   1400\n",
       "986            India    chikmagalur karnataka indua                   3170\n",
       "987            India    chikmagalur karnataka india                   3140\n",
       "988         Honduras                 western region                   1200\n",
       "\n",
       "[989 rows x 3 columns]"
      ]
     },
     "execution_count": 11,
     "metadata": {},
     "output_type": "execute_result"
    }
   ],
   "source": [
    "coffee.loc[:, \"Location.Region\"] # Returns all the rows with the Location.Region column\n",
    "coffee.iloc[0:2, :] # Because iloc is not inclusive at the right end, first two rows\n",
    "coffee.loc[:, \"Location.Country\":\"Location.Altitude.Min\"] # loc is inclusive"
   ]
  },
  {
   "cell_type": "markdown",
   "id": "ba26ed91-fdc2-4a64-ab0f-966e08a517a0",
   "metadata": {},
   "source": [
    "## Two Key Python Data Structures\n",
    "\n",
    "Many Pandas functions use **lists** or **dictionaries** as arguments.\n",
    "\n",
    "### Lists\n",
    "Lists are one-dimensional, ordered sequences. Lists can include items of heterogeneous data types."
   ]
  },
  {
   "cell_type": "code",
   "execution_count": 19,
   "id": "82b80dbf-6e9f-4248-b353-4a82c66ca636",
   "metadata": {
    "tags": []
   },
   "outputs": [
    {
     "name": "stdout",
     "output_type": "stream",
     "text": [
      "a\n",
      "['a', 'b']\n",
      "['a', 'b', 3, 5, ['dog', 'cat']]\n"
     ]
    }
   ],
   "source": [
    "my_list = [\"a\", \"b\", 3, 5]\n",
    "print(my_list[0]) # Gets the first item\n",
    "print(my_list[:2]) # Gets the first two items\n",
    "my_list.append([\"dog\", \"cat\"])\n",
    "print(my_list)"
   ]
  },
  {
   "cell_type": "markdown",
   "id": "bdb4498f-ae95-49f7-8cfc-1c6ff75b864d",
   "metadata": {},
   "source": [
    "### Dictionaries\n",
    "Dictionaries are sets of **key-value** pairs indicated by {} in the form `{k1: v1, k2: v2..}`.\n",
    "\n",
    "* Dictionary keys must be unique.\n",
    "* Dictionary values do not need to be.\n",
    "* If you know your key, dictionaries give you the corresponding value quickly."
   ]
  },
  {
   "cell_type": "markdown",
   "id": "c47fa8a4-89eb-4612-8bdd-65ce2730fc2f",
   "metadata": {},
   "source": [
    "Let's create a toy dictionary with patient names as *keys* and their diagnoses as *values*. "
   ]
  },
  {
   "cell_type": "code",
   "execution_count": 13,
   "id": "faad36d0-3c8b-49e6-85c9-dc9e67a2d2e9",
   "metadata": {
    "tags": []
   },
   "outputs": [
    {
     "name": "stdout",
     "output_type": "stream",
     "text": [
      "{'John': 'kidney stones', 'David': 'fever', 'Steven': 'fever'}\n"
     ]
    }
   ],
   "source": [
    "patients = {}\n",
    "patients[\"John\"] = \"kidney stones\"\n",
    "patients[\"David\"] = \"fever\"\n",
    "patients[\"Steven\"] = \"fever\"\n",
    "print(patients)"
   ]
  },
  {
   "cell_type": "markdown",
   "id": "c37a2c46-c6c1-4167-888f-70240a961339",
   "metadata": {},
   "source": [
    "There are two ways to get values out of a dictionary by their keys: using the [] syntax or using a method called .get()."
   ]
  },
  {
   "cell_type": "code",
   "execution_count": 14,
   "id": "38424b9b-66cb-47aa-9a2b-fc0f0f44ee74",
   "metadata": {
    "scrolled": true,
    "tags": []
   },
   "outputs": [
    {
     "data": {
      "text/plain": [
       "'kidney stones'"
      ]
     },
     "execution_count": 14,
     "metadata": {},
     "output_type": "execute_result"
    }
   ],
   "source": [
    "patients[\"John\"]"
   ]
  },
  {
   "cell_type": "markdown",
   "id": "a6131f9b-ec3e-436d-8662-806ffc34f078",
   "metadata": {},
   "source": [
    "The `[]` lookup syntax will fail with a **KeyError** if you try to lookup a key that is not in the dictionary."
   ]
  },
  {
   "cell_type": "code",
   "execution_count": 15,
   "id": "464af4e4-567c-4455-a01f-bbc16f5134d1",
   "metadata": {
    "tags": []
   },
   "outputs": [
    {
     "ename": "KeyError",
     "evalue": "'Emily'",
     "output_type": "error",
     "traceback": [
      "\u001b[1;31m---------------------------------------------------------------------------\u001b[0m",
      "\u001b[1;31mKeyError\u001b[0m                                  Traceback (most recent call last)",
      "Cell \u001b[1;32mIn[15], line 1\u001b[0m\n\u001b[1;32m----> 1\u001b[0m \u001b[43mpatients\u001b[49m\u001b[43m[\u001b[49m\u001b[38;5;124;43m\"\u001b[39;49m\u001b[38;5;124;43mEmily\u001b[39;49m\u001b[38;5;124;43m\"\u001b[39;49m\u001b[43m]\u001b[49m\n",
      "\u001b[1;31mKeyError\u001b[0m: 'Emily'"
     ]
    }
   ],
   "source": [
    "patients[\"Emily\"] # This will error out"
   ]
  },
  {
   "cell_type": "markdown",
   "id": "d0776824-0a76-47a8-aa7e-7b987baa1221",
   "metadata": {},
   "source": [
    "To prevent your code from crashing with a **KeyError**, use the **.get()** method instead, which will return `None` if the specified key is not in the dictionary."
   ]
  },
  {
   "cell_type": "code",
   "execution_count": 22,
   "id": "aa8ef4cf-91a3-4412-b1e3-4a9ca3128bc1",
   "metadata": {
    "tags": []
   },
   "outputs": [
    {
     "name": "stdout",
     "output_type": "stream",
     "text": [
      "Emily is not in the dictionary\n",
      "fever\n"
     ]
    }
   ],
   "source": [
    "if (patients.get(\"Emily\")) == None: # this will NOT crash\n",
    "    print(\"Emily is not in the dictionary\")\n",
    "print(patients.get(\"David\"))"
   ]
  },
  {
   "cell_type": "markdown",
   "id": "a6b525f7-6d4f-4bad-95be-589344523e86",
   "metadata": {},
   "source": [
    "Dictionary *keys* must be immutable, but dictionary *values* can be just about anything.\n",
    "\n",
    "**Hint**: The *mutable* objects you've encountered so far include lists and dictionaries."
   ]
  },
  {
   "cell_type": "code",
   "execution_count": 87,
   "id": "d9473d2f-a8ce-49cf-8e23-32d96064e80a",
   "metadata": {},
   "outputs": [
    {
     "ename": "TypeError",
     "evalue": "unhashable type: 'list'",
     "output_type": "error",
     "traceback": [
      "\u001b[1;31m---------------------------------------------------------------------------\u001b[0m",
      "\u001b[1;31mTypeError\u001b[0m                                 Traceback (most recent call last)",
      "Cell \u001b[1;32mIn[87], line 1\u001b[0m\n\u001b[1;32m----> 1\u001b[0m not_a_dict \u001b[38;5;241m=\u001b[39m {[\u001b[38;5;124m\"\u001b[39m\u001b[38;5;124ma\u001b[39m\u001b[38;5;124m\"\u001b[39m,\u001b[38;5;124m\"\u001b[39m\u001b[38;5;124mb\u001b[39m\u001b[38;5;124m\"\u001b[39m]:\u001b[38;5;241m3\u001b[39m}\n",
      "\u001b[1;31mTypeError\u001b[0m: unhashable type: 'list'"
     ]
    }
   ],
   "source": [
    "not_a_dict = {[\"a\",\"b\"]:3} # This will fail"
   ]
  },
  {
   "cell_type": "markdown",
   "id": "f630a2d4-9a3c-47c5-87c3-ca9d1af2730a",
   "metadata": {},
   "source": [
    "You *can* use lists as values in dictionaries, and in fact, it's convenient to do so."
   ]
  },
  {
   "cell_type": "code",
   "execution_count": 52,
   "id": "6794a4f8-093e-45a4-846e-a5cfa01a3ae5",
   "metadata": {},
   "outputs": [
    {
     "data": {
      "text/plain": [
       "{'name': ['adam', 'yao', 'sam'], 'ages': [15, 25, 30]}"
      ]
     },
     "execution_count": 52,
     "metadata": {},
     "output_type": "execute_result"
    }
   ],
   "source": [
    "hospital = {\"name\": [\"adam\", \"yao\", \"sam\"], \"ages\":[15, 25, 30]}\n",
    "hospital"
   ]
  },
  {
   "cell_type": "markdown",
   "id": "06a976fb-4c24-439c-82e5-f669dd13b83b",
   "metadata": {},
   "source": [
    "### Wait, What Does This Have to Do with Pandas?"
   ]
  },
  {
   "cell_type": "markdown",
   "id": "395a4060-b7c4-4a13-8574-5a1cdf7f3345",
   "metadata": {},
   "source": [
    "We can construct toy **Series** from lists by passing in a list of values *and* an index of the same length. (Remember, a **Series** is a one-dimensional array with an alphanumeric index.)"
   ]
  },
  {
   "cell_type": "code",
   "execution_count": 46,
   "id": "cc7211d6-b23b-4bac-b88e-5ebd808f2913",
   "metadata": {},
   "outputs": [
    {
     "data": {
      "text/plain": [
       "0         cat\n",
       "1         dog\n",
       "2    antelope\n",
       "dtype: object"
      ]
     },
     "execution_count": 46,
     "metadata": {},
     "output_type": "execute_result"
    }
   ],
   "source": [
    "s = pd.Series([\"cat\", \"dog\", \"antelope\"]) # no index provided, defaults to rangeindex\n",
    "s"
   ]
  },
  {
   "cell_type": "code",
   "execution_count": 47,
   "id": "e5c87d4a-5e11-451d-a543-2080964fc0be",
   "metadata": {},
   "outputs": [
    {
     "data": {
      "text/plain": [
       "c         cat\n",
       "d         dog\n",
       "a    antelope\n",
       "dtype: object"
      ]
     },
     "execution_count": 47,
     "metadata": {},
     "output_type": "execute_result"
    }
   ],
   "source": [
    "z = pd.Series(data=[\"cat\", \"dog\", \"antelope\"], index=[\"c\", \"d\", \"a\"])\n",
    "z"
   ]
  },
  {
   "cell_type": "markdown",
   "id": "74ed2436-1b7e-4fcc-ae12-04bddbcfd6e0",
   "metadata": {},
   "source": [
    "We can construct **DataFrames** from dictionaries of rows. Let's take the `hospital` dictionary from above. Note that the $nth$ item in the list corresponds to $nth$ row in the resulting DataFrame ."
   ]
  },
  {
   "cell_type": "code",
   "execution_count": 53,
   "id": "02eeb14a-3d3b-4556-82b7-79cca5461323",
   "metadata": {},
   "outputs": [
    {
     "data": {
      "text/html": [
       "<div>\n",
       "<style scoped>\n",
       "    .dataframe tbody tr th:only-of-type {\n",
       "        vertical-align: middle;\n",
       "    }\n",
       "\n",
       "    .dataframe tbody tr th {\n",
       "        vertical-align: top;\n",
       "    }\n",
       "\n",
       "    .dataframe thead th {\n",
       "        text-align: right;\n",
       "    }\n",
       "</style>\n",
       "<table border=\"1\" class=\"dataframe\">\n",
       "  <thead>\n",
       "    <tr style=\"text-align: right;\">\n",
       "      <th></th>\n",
       "      <th>name</th>\n",
       "      <th>ages</th>\n",
       "    </tr>\n",
       "  </thead>\n",
       "  <tbody>\n",
       "    <tr>\n",
       "      <th>101</th>\n",
       "      <td>adam</td>\n",
       "      <td>15</td>\n",
       "    </tr>\n",
       "    <tr>\n",
       "      <th>102</th>\n",
       "      <td>yao</td>\n",
       "      <td>25</td>\n",
       "    </tr>\n",
       "    <tr>\n",
       "      <th>103</th>\n",
       "      <td>sam</td>\n",
       "      <td>30</td>\n",
       "    </tr>\n",
       "  </tbody>\n",
       "</table>\n",
       "</div>"
      ],
      "text/plain": [
       "     name  ages\n",
       "101  adam    15\n",
       "102   yao    25\n",
       "103   sam    30"
      ]
     },
     "execution_count": 53,
     "metadata": {},
     "output_type": "execute_result"
    }
   ],
   "source": [
    "hospital_frame = pd.DataFrame(data=hospital, index=[101, 102, 103])\n",
    "hospital_frame"
   ]
  },
  {
   "cell_type": "markdown",
   "id": "5287e5d6-86bf-451b-9253-014b321db236",
   "metadata": {},
   "source": [
    "In this example, patients are indexed by a fake patient_id number. We can use **.loc[]** to retrieve rows by that index."
   ]
  },
  {
   "cell_type": "code",
   "execution_count": 54,
   "id": "cd21710e-f63d-4954-a115-6532c99429ff",
   "metadata": {},
   "outputs": [
    {
     "data": {
      "text/plain": [
       "name    adam\n",
       "ages      15\n",
       "Name: 101, dtype: object"
      ]
     },
     "execution_count": 54,
     "metadata": {},
     "output_type": "execute_result"
    }
   ],
   "source": [
    "hospital_frame.loc[101]"
   ]
  },
  {
   "cell_type": "markdown",
   "id": "6c30a6d5-e828-4b87-804d-67813a51cc06",
   "metadata": {},
   "source": [
    "There are many functions in Pandas that take in dictionaries or lists as **arguments**, so make sure you're comfortable with these data structures. "
   ]
  },
  {
   "cell_type": "markdown",
   "id": "2d567775-ec8a-4f2d-828a-d04aa9367a4c",
   "metadata": {},
   "source": [
    "### Selecting from a DataFrame with an alphanumeric index\n",
    "Here is a DataFrame that is indexed by a string rather than an integer starting at 0. In this case, .loc and .iloc will different when indexing into rows."
   ]
  },
  {
   "cell_type": "code",
   "execution_count": 9,
   "id": "68576fff-6310-4009-8172-11e1e2cb6092",
   "metadata": {
    "tags": []
   },
   "outputs": [
    {
     "data": {
      "text/html": [
       "<div>\n",
       "<style scoped>\n",
       "    .dataframe tbody tr th:only-of-type {\n",
       "        vertical-align: middle;\n",
       "    }\n",
       "\n",
       "    .dataframe tbody tr th {\n",
       "        vertical-align: top;\n",
       "    }\n",
       "\n",
       "    .dataframe thead th {\n",
       "        text-align: right;\n",
       "    }\n",
       "</style>\n",
       "<table border=\"1\" class=\"dataframe\">\n",
       "  <thead>\n",
       "    <tr style=\"text-align: right;\">\n",
       "      <th></th>\n",
       "      <th>First</th>\n",
       "      <th>Last</th>\n",
       "    </tr>\n",
       "  </thead>\n",
       "  <tbody>\n",
       "    <tr>\n",
       "      <th>a</th>\n",
       "      <td>John</td>\n",
       "      <td>Jones</td>\n",
       "    </tr>\n",
       "    <tr>\n",
       "      <th>b</th>\n",
       "      <td>Steve</td>\n",
       "      <td>Smith</td>\n",
       "    </tr>\n",
       "  </tbody>\n",
       "</table>\n",
       "</div>"
      ],
      "text/plain": [
       "   First   Last\n",
       "a   John  Jones\n",
       "b  Steve  Smith"
      ]
     },
     "execution_count": 9,
     "metadata": {},
     "output_type": "execute_result"
    }
   ],
   "source": [
    "names = pd.DataFrame({\"First\":[\"John\", \"Steve\"], \"Last\":[\"Jones\", \"Smith\"]}, index=[\"a\", \"b\"])\n",
    "names.head()"
   ]
  },
  {
   "cell_type": "markdown",
   "id": "5f39a6f2-c358-49f2-848f-7fdef3ce7433",
   "metadata": {},
   "source": [
    "*Q: How would you select \"John\" using loc? How would you select \"Jones\" using iloc?*"
   ]
  },
  {
   "cell_type": "code",
   "execution_count": 10,
   "id": "95cb0204-0ec6-428e-8ac9-ac9a4656d0ab",
   "metadata": {
    "tags": []
   },
   "outputs": [
    {
     "name": "stdout",
     "output_type": "stream",
     "text": [
      "John\n",
      "Jones\n"
     ]
    }
   ],
   "source": [
    "print(names.loc[\"a\", \"First\"])\n",
    "print(names.iloc[0, 1])"
   ]
  },
  {
   "cell_type": "markdown",
   "id": "f9d4c5b7-b54e-4cf6-b4df-a312224755d8",
   "metadata": {},
   "source": [
    "To look at the first `k` and the last `k` rows of a DataFrame respectively, we can use **.head(k)** and **.tail(k)**."
   ]
  },
  {
   "cell_type": "markdown",
   "id": "7d0d222d-75b0-4d69-8d62-75e6c5789c71",
   "metadata": {},
   "source": [
    "*Q: How would you find the last three rows of the coffee DataFrame?*"
   ]
  },
  {
   "cell_type": "code",
   "execution_count": 49,
   "id": "cf17e7e7-d04a-41c7-ba4a-16aa10b9edd8",
   "metadata": {
    "tags": []
   },
   "outputs": [
    {
     "data": {
      "text/html": [
       "<div>\n",
       "<style scoped>\n",
       "    .dataframe tbody tr th:only-of-type {\n",
       "        vertical-align: middle;\n",
       "    }\n",
       "\n",
       "    .dataframe tbody tr th {\n",
       "        vertical-align: top;\n",
       "    }\n",
       "\n",
       "    .dataframe thead th {\n",
       "        text-align: right;\n",
       "    }\n",
       "</style>\n",
       "<table border=\"1\" class=\"dataframe\">\n",
       "  <thead>\n",
       "    <tr style=\"text-align: right;\">\n",
       "      <th></th>\n",
       "      <th>Location.Country</th>\n",
       "      <th>Location.Region</th>\n",
       "      <th>Location.Altitude.Min</th>\n",
       "      <th>Location.Altitude.Max</th>\n",
       "      <th>Location.Altitude.Average</th>\n",
       "      <th>Year</th>\n",
       "      <th>Data.Owner</th>\n",
       "      <th>Data.Type.Species</th>\n",
       "      <th>Data.Type.Variety</th>\n",
       "      <th>Data.Type.Processing method</th>\n",
       "      <th>...</th>\n",
       "      <th>Data.Scores.Flavor</th>\n",
       "      <th>Data.Scores.Aftertaste</th>\n",
       "      <th>Data.Scores.Acidity</th>\n",
       "      <th>Data.Scores.Body</th>\n",
       "      <th>Data.Scores.Balance</th>\n",
       "      <th>Data.Scores.Uniformity</th>\n",
       "      <th>Data.Scores.Sweetness</th>\n",
       "      <th>Data.Scores.Moisture</th>\n",
       "      <th>Data.Scores.Total</th>\n",
       "      <th>Data.Color</th>\n",
       "    </tr>\n",
       "  </thead>\n",
       "  <tbody>\n",
       "    <tr>\n",
       "      <th>986</th>\n",
       "      <td>India</td>\n",
       "      <td>chikmagalur karnataka indua</td>\n",
       "      <td>3170</td>\n",
       "      <td>3170</td>\n",
       "      <td>3170</td>\n",
       "      <td>2017</td>\n",
       "      <td>nishant gurjer</td>\n",
       "      <td>Robusta</td>\n",
       "      <td>NaN</td>\n",
       "      <td>Washed / Wet</td>\n",
       "      <td>...</td>\n",
       "      <td>7.75</td>\n",
       "      <td>7.92</td>\n",
       "      <td>8.00</td>\n",
       "      <td>7.92</td>\n",
       "      <td>7.92</td>\n",
       "      <td>10.0</td>\n",
       "      <td>8.00</td>\n",
       "      <td>0.00</td>\n",
       "      <td>83.50</td>\n",
       "      <td>Unknown</td>\n",
       "    </tr>\n",
       "    <tr>\n",
       "      <th>987</th>\n",
       "      <td>India</td>\n",
       "      <td>chikmagalur karnataka india</td>\n",
       "      <td>3140</td>\n",
       "      <td>3140</td>\n",
       "      <td>3140</td>\n",
       "      <td>2017</td>\n",
       "      <td>nishant gurjer</td>\n",
       "      <td>Robusta</td>\n",
       "      <td>NaN</td>\n",
       "      <td>Washed / Wet</td>\n",
       "      <td>...</td>\n",
       "      <td>7.75</td>\n",
       "      <td>7.83</td>\n",
       "      <td>7.67</td>\n",
       "      <td>7.92</td>\n",
       "      <td>7.83</td>\n",
       "      <td>10.0</td>\n",
       "      <td>7.92</td>\n",
       "      <td>0.10</td>\n",
       "      <td>82.50</td>\n",
       "      <td>Bluish-Green</td>\n",
       "    </tr>\n",
       "    <tr>\n",
       "      <th>988</th>\n",
       "      <td>Honduras</td>\n",
       "      <td>western region</td>\n",
       "      <td>1200</td>\n",
       "      <td>1200</td>\n",
       "      <td>1200</td>\n",
       "      <td>2018</td>\n",
       "      <td>mdh</td>\n",
       "      <td>Arabica</td>\n",
       "      <td>Catimor</td>\n",
       "      <td>Washed / Wet</td>\n",
       "      <td>...</td>\n",
       "      <td>7.42</td>\n",
       "      <td>7.08</td>\n",
       "      <td>7.42</td>\n",
       "      <td>7.50</td>\n",
       "      <td>7.33</td>\n",
       "      <td>10.0</td>\n",
       "      <td>10.00</td>\n",
       "      <td>0.11</td>\n",
       "      <td>81.58</td>\n",
       "      <td>Blue-Green</td>\n",
       "    </tr>\n",
       "  </tbody>\n",
       "</table>\n",
       "<p>3 rows × 23 columns</p>\n",
       "</div>"
      ],
      "text/plain": [
       "    Location.Country              Location.Region  Location.Altitude.Min  \\\n",
       "986            India  chikmagalur karnataka indua                   3170   \n",
       "987            India  chikmagalur karnataka india                   3140   \n",
       "988         Honduras               western region                   1200   \n",
       "\n",
       "     Location.Altitude.Max  Location.Altitude.Average  Year      Data.Owner  \\\n",
       "986                   3170                       3170  2017  nishant gurjer   \n",
       "987                   3140                       3140  2017  nishant gurjer   \n",
       "988                   1200                       1200  2018             mdh   \n",
       "\n",
       "    Data.Type.Species Data.Type.Variety Data.Type.Processing method  ...  \\\n",
       "986           Robusta               NaN                Washed / Wet  ...   \n",
       "987           Robusta               NaN                Washed / Wet  ...   \n",
       "988           Arabica           Catimor                Washed / Wet  ...   \n",
       "\n",
       "     Data.Scores.Flavor  Data.Scores.Aftertaste  Data.Scores.Acidity  \\\n",
       "986                7.75                    7.92                 8.00   \n",
       "987                7.75                    7.83                 7.67   \n",
       "988                7.42                    7.08                 7.42   \n",
       "\n",
       "     Data.Scores.Body  Data.Scores.Balance  Data.Scores.Uniformity  \\\n",
       "986              7.92                 7.92                    10.0   \n",
       "987              7.92                 7.83                    10.0   \n",
       "988              7.50                 7.33                    10.0   \n",
       "\n",
       "     Data.Scores.Sweetness  Data.Scores.Moisture  Data.Scores.Total  \\\n",
       "986                   8.00                  0.00              83.50   \n",
       "987                   7.92                  0.10              82.50   \n",
       "988                  10.00                  0.11              81.58   \n",
       "\n",
       "       Data.Color  \n",
       "986       Unknown  \n",
       "987  Bluish-Green  \n",
       "988    Blue-Green  \n",
       "\n",
       "[3 rows x 23 columns]"
      ]
     },
     "execution_count": 49,
     "metadata": {},
     "output_type": "execute_result"
    }
   ],
   "source": [
    "coffee.tail(3)"
   ]
  },
  {
   "cell_type": "markdown",
   "id": "87898fdb-6bca-4122-bc8d-24f74d0b05d5",
   "metadata": {},
   "source": [
    "Each column in a Pandas DataFrame is a [Series](https://pandas.pydata.org/docs/reference/series.html#series), so we can apply all of the methods available for Series to Pandas columns."
   ]
  },
  {
   "cell_type": "markdown",
   "id": "bc40bc9f-2d45-4fdd-9c62-21196e063dd7",
   "metadata": {},
   "source": [
    "*Q: How would you find the oldest and most recent coffees in the DataFrame? Their difference?*"
   ]
  },
  {
   "cell_type": "code",
   "execution_count": 56,
   "id": "24f17b26-386e-441c-a3ce-b31023672445",
   "metadata": {
    "tags": []
   },
   "outputs": [
    {
     "name": "stdout",
     "output_type": "stream",
     "text": [
      "The range of age of coffee vintages is 8 years\n"
     ]
    }
   ],
   "source": [
    "newest = coffee[\"Year\"].max()\n",
    "oldest = coffee[\"Year\"].min()\n",
    "print(\"The range of age of coffee vintages is\", newest - oldest, \"years\")"
   ]
  },
  {
   "cell_type": "markdown",
   "id": "c420c755-348b-4351-bbd5-5dcd60a8c14d",
   "metadata": {},
   "source": [
    "We can use lists to select several columns at once and in any order. You can pass it lists of column names to .loc[]. Remember `:` means select all columns or all rows."
   ]
  },
  {
   "cell_type": "code",
   "execution_count": 81,
   "id": "14b5777c-21af-4cc8-b2f2-da15530bab96",
   "metadata": {},
   "outputs": [
    {
     "data": {
      "text/html": [
       "<div>\n",
       "<style scoped>\n",
       "    .dataframe tbody tr th:only-of-type {\n",
       "        vertical-align: middle;\n",
       "    }\n",
       "\n",
       "    .dataframe tbody tr th {\n",
       "        vertical-align: top;\n",
       "    }\n",
       "\n",
       "    .dataframe thead th {\n",
       "        text-align: right;\n",
       "    }\n",
       "</style>\n",
       "<table border=\"1\" class=\"dataframe\">\n",
       "  <thead>\n",
       "    <tr style=\"text-align: right;\">\n",
       "      <th></th>\n",
       "      <th>Data.Color</th>\n",
       "      <th>Data.Scores.Total</th>\n",
       "      <th>Location.Region</th>\n",
       "    </tr>\n",
       "  </thead>\n",
       "  <tbody>\n",
       "    <tr>\n",
       "      <th>0</th>\n",
       "      <td>Unknown</td>\n",
       "      <td>86.25</td>\n",
       "      <td>kona</td>\n",
       "    </tr>\n",
       "    <tr>\n",
       "      <th>1</th>\n",
       "      <td>Unknown</td>\n",
       "      <td>86.17</td>\n",
       "      <td>sul de minas - carmo de minas</td>\n",
       "    </tr>\n",
       "    <tr>\n",
       "      <th>2</th>\n",
       "      <td>Unknown</td>\n",
       "      <td>86.17</td>\n",
       "      <td>sul de minas - carmo de minas</td>\n",
       "    </tr>\n",
       "    <tr>\n",
       "      <th>3</th>\n",
       "      <td>Unknown</td>\n",
       "      <td>85.08</td>\n",
       "      <td>sidamo</td>\n",
       "    </tr>\n",
       "    <tr>\n",
       "      <th>4</th>\n",
       "      <td>Unknown</td>\n",
       "      <td>83.83</td>\n",
       "      <td>sidamo</td>\n",
       "    </tr>\n",
       "    <tr>\n",
       "      <th>...</th>\n",
       "      <td>...</td>\n",
       "      <td>...</td>\n",
       "      <td>...</td>\n",
       "    </tr>\n",
       "    <tr>\n",
       "      <th>984</th>\n",
       "      <td>Green</td>\n",
       "      <td>79.08</td>\n",
       "      <td>san marcos</td>\n",
       "    </tr>\n",
       "    <tr>\n",
       "      <th>985</th>\n",
       "      <td>Green</td>\n",
       "      <td>0.00</td>\n",
       "      <td>comayagua</td>\n",
       "    </tr>\n",
       "    <tr>\n",
       "      <th>986</th>\n",
       "      <td>Unknown</td>\n",
       "      <td>83.50</td>\n",
       "      <td>chikmagalur karnataka indua</td>\n",
       "    </tr>\n",
       "    <tr>\n",
       "      <th>987</th>\n",
       "      <td>Bluish-Green</td>\n",
       "      <td>82.50</td>\n",
       "      <td>chikmagalur karnataka india</td>\n",
       "    </tr>\n",
       "    <tr>\n",
       "      <th>988</th>\n",
       "      <td>Blue-Green</td>\n",
       "      <td>81.58</td>\n",
       "      <td>western region</td>\n",
       "    </tr>\n",
       "  </tbody>\n",
       "</table>\n",
       "<p>989 rows × 3 columns</p>\n",
       "</div>"
      ],
      "text/plain": [
       "       Data.Color  Data.Scores.Total                Location.Region\n",
       "0         Unknown              86.25                           kona\n",
       "1         Unknown              86.17  sul de minas - carmo de minas\n",
       "2         Unknown              86.17  sul de minas - carmo de minas\n",
       "3         Unknown              85.08                         sidamo\n",
       "4         Unknown              83.83                         sidamo\n",
       "..            ...                ...                            ...\n",
       "984         Green              79.08                     san marcos\n",
       "985         Green               0.00                      comayagua\n",
       "986       Unknown              83.50    chikmagalur karnataka indua\n",
       "987  Bluish-Green              82.50    chikmagalur karnataka india\n",
       "988    Blue-Green              81.58                 western region\n",
       "\n",
       "[989 rows x 3 columns]"
      ]
     },
     "execution_count": 81,
     "metadata": {},
     "output_type": "execute_result"
    }
   ],
   "source": [
    "coffee.loc[:, [\"Data.Color\", \"Data.Scores.Total\", \"Location.Region\"]]"
   ]
  },
  {
   "cell_type": "markdown",
   "id": "8733d31d-bfdf-4b8d-8a34-2371a675ae77",
   "metadata": {},
   "source": [
    "You can make the list a separate variable for readability purposes."
   ]
  },
  {
   "cell_type": "code",
   "execution_count": 82,
   "id": "b72f606f-838f-4e39-862f-b3e3525d3686",
   "metadata": {
    "scrolled": true,
    "tags": []
   },
   "outputs": [
    {
     "data": {
      "text/html": [
       "<div>\n",
       "<style scoped>\n",
       "    .dataframe tbody tr th:only-of-type {\n",
       "        vertical-align: middle;\n",
       "    }\n",
       "\n",
       "    .dataframe tbody tr th {\n",
       "        vertical-align: top;\n",
       "    }\n",
       "\n",
       "    .dataframe thead th {\n",
       "        text-align: right;\n",
       "    }\n",
       "</style>\n",
       "<table border=\"1\" class=\"dataframe\">\n",
       "  <thead>\n",
       "    <tr style=\"text-align: right;\">\n",
       "      <th></th>\n",
       "      <th>Data.Color</th>\n",
       "      <th>Data.Scores.Total</th>\n",
       "      <th>Location.Region</th>\n",
       "      <th>Year</th>\n",
       "    </tr>\n",
       "  </thead>\n",
       "  <tbody>\n",
       "    <tr>\n",
       "      <th>0</th>\n",
       "      <td>Unknown</td>\n",
       "      <td>86.25</td>\n",
       "      <td>kona</td>\n",
       "      <td>2010</td>\n",
       "    </tr>\n",
       "    <tr>\n",
       "      <th>1</th>\n",
       "      <td>Unknown</td>\n",
       "      <td>86.17</td>\n",
       "      <td>sul de minas - carmo de minas</td>\n",
       "      <td>2010</td>\n",
       "    </tr>\n",
       "    <tr>\n",
       "      <th>2</th>\n",
       "      <td>Unknown</td>\n",
       "      <td>86.17</td>\n",
       "      <td>sul de minas - carmo de minas</td>\n",
       "      <td>2010</td>\n",
       "    </tr>\n",
       "    <tr>\n",
       "      <th>3</th>\n",
       "      <td>Unknown</td>\n",
       "      <td>85.08</td>\n",
       "      <td>sidamo</td>\n",
       "      <td>2010</td>\n",
       "    </tr>\n",
       "    <tr>\n",
       "      <th>4</th>\n",
       "      <td>Unknown</td>\n",
       "      <td>83.83</td>\n",
       "      <td>sidamo</td>\n",
       "      <td>2010</td>\n",
       "    </tr>\n",
       "    <tr>\n",
       "      <th>...</th>\n",
       "      <td>...</td>\n",
       "      <td>...</td>\n",
       "      <td>...</td>\n",
       "      <td>...</td>\n",
       "    </tr>\n",
       "    <tr>\n",
       "      <th>984</th>\n",
       "      <td>Green</td>\n",
       "      <td>79.08</td>\n",
       "      <td>san marcos</td>\n",
       "      <td>2017</td>\n",
       "    </tr>\n",
       "    <tr>\n",
       "      <th>985</th>\n",
       "      <td>Green</td>\n",
       "      <td>0.00</td>\n",
       "      <td>comayagua</td>\n",
       "      <td>2017</td>\n",
       "    </tr>\n",
       "    <tr>\n",
       "      <th>986</th>\n",
       "      <td>Unknown</td>\n",
       "      <td>83.50</td>\n",
       "      <td>chikmagalur karnataka indua</td>\n",
       "      <td>2017</td>\n",
       "    </tr>\n",
       "    <tr>\n",
       "      <th>987</th>\n",
       "      <td>Bluish-Green</td>\n",
       "      <td>82.50</td>\n",
       "      <td>chikmagalur karnataka india</td>\n",
       "      <td>2017</td>\n",
       "    </tr>\n",
       "    <tr>\n",
       "      <th>988</th>\n",
       "      <td>Blue-Green</td>\n",
       "      <td>81.58</td>\n",
       "      <td>western region</td>\n",
       "      <td>2018</td>\n",
       "    </tr>\n",
       "  </tbody>\n",
       "</table>\n",
       "<p>989 rows × 4 columns</p>\n",
       "</div>"
      ],
      "text/plain": [
       "       Data.Color  Data.Scores.Total                Location.Region  Year\n",
       "0         Unknown              86.25                           kona  2010\n",
       "1         Unknown              86.17  sul de minas - carmo de minas  2010\n",
       "2         Unknown              86.17  sul de minas - carmo de minas  2010\n",
       "3         Unknown              85.08                         sidamo  2010\n",
       "4         Unknown              83.83                         sidamo  2010\n",
       "..            ...                ...                            ...   ...\n",
       "984         Green              79.08                     san marcos  2017\n",
       "985         Green               0.00                      comayagua  2017\n",
       "986       Unknown              83.50    chikmagalur karnataka indua  2017\n",
       "987  Bluish-Green              82.50    chikmagalur karnataka india  2017\n",
       "988    Blue-Green              81.58                 western region  2018\n",
       "\n",
       "[989 rows x 4 columns]"
      ]
     },
     "execution_count": 82,
     "metadata": {},
     "output_type": "execute_result"
    }
   ],
   "source": [
    "longer_list = [\"Data.Color\", \"Data.Scores.Total\", \"Location.Region\", \"Year\"]\n",
    "coffee.loc[:, longer_list]"
   ]
  }
 ],
 "metadata": {
  "kernelspec": {
   "display_name": "Python 3 (ipykernel)",
   "language": "python",
   "name": "python3"
  },
  "language_info": {
   "codemirror_mode": {
    "name": "ipython",
    "version": 3
   },
   "file_extension": ".py",
   "mimetype": "text/x-python",
   "name": "python",
   "nbconvert_exporter": "python",
   "pygments_lexer": "ipython3",
   "version": "3.11.5"
  }
 },
 "nbformat": 4,
 "nbformat_minor": 5
}
